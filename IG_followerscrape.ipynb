{
 "cells": [
  {
   "cell_type": "code",
   "execution_count": 15,
   "id": "cd7641d5-a80f-4dc5-9571-7e25d6d71681",
   "metadata": {},
   "outputs": [],
   "source": [
    "#note: the profile should be public to make use of this script. it will most likely fail with private profiles, except you login and youre following that person"
   ]
  },
  {
   "cell_type": "code",
   "execution_count": null,
   "id": "8099e0c8-985b-439c-a35c-8efe666f7cb6",
   "metadata": {},
   "outputs": [],
   "source": [
    "import instaloader\n",
    "import re"
   ]
  },
  {
   "cell_type": "code",
   "execution_count": null,
   "id": "fea0af4a-04d5-4edd-90cd-d52eba2437b7",
   "metadata": {},
   "outputs": [],
   "source": [
    "# Instaloader-Object\n",
    "L = instaloader.Instaloader()"
   ]
  },
  {
   "cell_type": "code",
   "execution_count": null,
   "id": "7ca1eb17-20f5-484a-9280-71b4e8f1b1e4",
   "metadata": {},
   "outputs": [],
   "source": [
    "# L.login('your_username', 'your_password') #if the profile is private and you follow each other"
   ]
  },
  {
   "cell_type": "code",
   "execution_count": null,
   "id": "0064d0a5-b14a-4c6a-983c-852290007b61",
   "metadata": {},
   "outputs": [],
   "source": [
    "# Instagram profile loader\n",
    "profile_name = 'PUBLIC_ACCOUNT_NAME'  # Ersetze dies durch den Account-Namen\n",
    "profile = instaloader.Profile.from_username(L.context, profile_name)"
   ]
  },
  {
   "cell_type": "code",
   "execution_count": null,
   "id": "c777cf6b-0023-4cdc-8315-eb02a8e8df96",
   "metadata": {},
   "outputs": [],
   "source": [
    "# call follower\n",
    "followers = profile.get_followers()"
   ]
  },
  {
   "cell_type": "code",
   "execution_count": null,
   "id": "0b2a148b-6538-4073-a971-0d96058040a3",
   "metadata": {},
   "outputs": [],
   "source": [
    "#this only works if they explicitly call the link of or something like that, it does not work with those bitly/whatever links\n",
    "def contains_onlyfans_link(bio):\n",
    "    # Regex checks ofs\n",
    "    onlyfans_pattern = re.compile(r'https?://(www\\.)?onlyfans\\.com/[^\\s]+')\n",
    "    return onlyfans_pattern.search(bio) is not None\n"
   ]
  },
  {
   "cell_type": "code",
   "execution_count": null,
   "id": "91656f36-4524-4c5c-a049-4fb964b05827",
   "metadata": {},
   "outputs": [],
   "source": [
    "# search for a link in bio if above does not work - sorry if you will have to manually check whether its OF\n",
    "def contains_link(bio):\n",
    "    # Regex basic link in bio\n",
    "    url_pattern = re.compile(r'https?://[^\\s]+')\n",
    "    return url_pattern.search(bio) is not None"
   ]
  },
  {
   "cell_type": "code",
   "execution_count": null,
   "id": "9d6c7b65-9baf-4244-9ef6-8f6c7cd301aa",
   "metadata": {},
   "outputs": [],
   "source": [
    "#list users\n",
    "users_with_links = []"
   ]
  },
  {
   "cell_type": "code",
   "execution_count": null,
   "id": "89628642-876c-4599-b699-bba1e1a64d38",
   "metadata": {},
   "outputs": [],
   "source": [
    "# iterate through the users\n",
    "for follower in followers:\n",
    "    bio = follower.biography\n",
    "    if contains_link(bio):\n",
    "        users_with_links.append((follower.username, bio))"
   ]
  },
  {
   "cell_type": "code",
   "execution_count": null,
   "id": "e2c7c114-38fb-4eda-9f40-5bfefe9888c1",
   "metadata": {},
   "outputs": [],
   "source": [
    "#print them\n",
    "for user, bio in users_with_links:\n",
    "    print(f\"User: {user}, Bio: {bio}\")"
   ]
  },
  {
   "cell_type": "code",
   "execution_count": null,
   "id": "4967f3f8-6a04-49e5-9170-90ff6464bde1",
   "metadata": {},
   "outputs": [],
   "source": []
  },
  {
   "cell_type": "code",
   "execution_count": null,
   "id": "cc12cc84-3f4b-4ed7-8e4c-ac014dacea7c",
   "metadata": {},
   "outputs": [],
   "source": []
  },
  {
   "cell_type": "code",
   "execution_count": null,
   "id": "29d26ad7-94a8-46d0-b686-f02be69586d3",
   "metadata": {},
   "outputs": [],
   "source": []
  },
  {
   "cell_type": "code",
   "execution_count": null,
   "id": "3e350eff-b8b4-4982-a3a4-e2b72db59687",
   "metadata": {},
   "outputs": [],
   "source": []
  }
 ],
 "metadata": {
  "kernelspec": {
   "display_name": "Python 3 (ipykernel)",
   "language": "python",
   "name": "python3"
  },
  "language_info": {
   "codemirror_mode": {
    "name": "ipython",
    "version": 3
   },
   "file_extension": ".py",
   "mimetype": "text/x-python",
   "name": "python",
   "nbconvert_exporter": "python",
   "pygments_lexer": "ipython3",
   "version": "3.12.2"
  }
 },
 "nbformat": 4,
 "nbformat_minor": 5
}
